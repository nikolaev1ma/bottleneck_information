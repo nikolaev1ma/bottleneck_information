{
 "cells": [
  {
   "cell_type": "code",
   "execution_count": 1,
   "id": "13f9b809",
   "metadata": {},
   "outputs": [],
   "source": [
    "import sys\n",
    "sys.path.append('../')\n",
    "from probability import *\n",
    "from information import *"
   ]
  },
  {
   "cell_type": "code",
   "execution_count": 2,
   "id": "d523035b",
   "metadata": {},
   "outputs": [],
   "source": [
    "%reload_ext autoreload\n",
    "\n",
    "%autoreload 2"
   ]
  },
  {
   "cell_type": "code",
   "execution_count": 3,
   "id": "8a0b02e6",
   "metadata": {},
   "outputs": [],
   "source": [
    "net = CNN()\n",
    "train_data = datasets.MNIST(\n",
    "    root = 'data',\n",
    "    train = True,\n",
    "    transform = ToTensor(),\n",
    "    download = True,\n",
    ")\n",
    "\n",
    "test_data = datasets.MNIST(\n",
    "    root='data',\n",
    "    train=False,\n",
    "    transform=ToTensor()\n",
    ")\n",
    "\n",
    "mnist_train = torch.utils.data.DataLoader(train_data,\n",
    "                                          batch_size=100,\n",
    "                                          shuffle=True,\n",
    "                                          num_workers=1)\n",
    "\n",
    "mnist_test = torch.utils.data.DataLoader(test_data,\n",
    "                                         batch_size=100,\n",
    "                                         shuffle=True,\n",
    "                                         num_workers=1)\n",
    "\n",
    "total_step = len(mnist_train)\n"
   ]
  },
  {
   "cell_type": "code",
   "execution_count": 4,
   "id": "29a835f6",
   "metadata": {},
   "outputs": [],
   "source": [
    "loss_func = nn.CrossEntropyLoss()\n",
    "optimizer = optim.Adam(net.parameters(), lr=0.002)    "
   ]
  },
  {
   "cell_type": "code",
   "execution_count": 5,
   "id": "ea7b1d74",
   "metadata": {},
   "outputs": [
    {
     "name": "stdout",
     "output_type": "stream",
     "text": [
      "Epoch [1/10], Step [100/600], Loss: 0.1287\n",
      "Epoch [1/10], Step [200/600], Loss: 0.1194\n",
      "Epoch [1/10], Step [300/600], Loss: 0.0111\n",
      "Epoch [1/10], Step [400/600], Loss: 0.0500\n",
      "Epoch [1/10], Step [500/600], Loss: 0.0935\n",
      "Epoch [1/10], Step [600/600], Loss: 0.1118\n"
     ]
    },
    {
     "name": "stderr",
     "output_type": "stream",
     "text": [
      "../probability.py:159: UserWarning: Implicit dimension choice for softmax has been deprecated. Change the call to include dim=X as an argument.\n",
      "  z3_comp = sm_z3(z3)\n"
     ]
    },
    {
     "name": "stdout",
     "output_type": "stream",
     "text": [
      "Epoch [2/10], Step [100/600], Loss: 0.0764\n",
      "Epoch [2/10], Step [200/600], Loss: 0.0325\n",
      "Epoch [2/10], Step [300/600], Loss: 0.0282\n",
      "Epoch [2/10], Step [400/600], Loss: 0.0104\n",
      "Epoch [2/10], Step [500/600], Loss: 0.0485\n",
      "Epoch [2/10], Step [600/600], Loss: 0.0623\n",
      "Epoch [3/10], Step [100/600], Loss: 0.1213\n",
      "Epoch [3/10], Step [200/600], Loss: 0.0117\n",
      "Epoch [3/10], Step [300/600], Loss: 0.0643\n",
      "Epoch [3/10], Step [400/600], Loss: 0.0283\n",
      "Epoch [3/10], Step [500/600], Loss: 0.0706\n",
      "Epoch [3/10], Step [600/600], Loss: 0.0175\n",
      "Epoch [4/10], Step [100/600], Loss: 0.0488\n",
      "Epoch [4/10], Step [200/600], Loss: 0.0135\n",
      "Epoch [4/10], Step [300/600], Loss: 0.2399\n",
      "Epoch [4/10], Step [400/600], Loss: 0.0166\n",
      "Epoch [4/10], Step [500/600], Loss: 0.0218\n",
      "Epoch [4/10], Step [600/600], Loss: 0.0710\n",
      "Epoch [5/10], Step [100/600], Loss: 0.0205\n",
      "Epoch [5/10], Step [200/600], Loss: 0.0147\n",
      "Epoch [5/10], Step [300/600], Loss: 0.0548\n",
      "Epoch [5/10], Step [400/600], Loss: 0.0236\n",
      "Epoch [5/10], Step [500/600], Loss: 0.0033\n",
      "Epoch [5/10], Step [600/600], Loss: 0.0324\n",
      "Epoch [6/10], Step [100/600], Loss: 0.0050\n",
      "Epoch [6/10], Step [200/600], Loss: 0.0025\n",
      "Epoch [6/10], Step [300/600], Loss: 0.1042\n",
      "Epoch [6/10], Step [400/600], Loss: 0.0379\n",
      "Epoch [6/10], Step [500/600], Loss: 0.0148\n",
      "Epoch [6/10], Step [600/600], Loss: 0.0125\n",
      "Epoch [7/10], Step [100/600], Loss: 0.0040\n",
      "Epoch [7/10], Step [200/600], Loss: 0.0053\n",
      "Epoch [7/10], Step [300/600], Loss: 0.0038\n",
      "Epoch [7/10], Step [400/600], Loss: 0.0056\n",
      "Epoch [7/10], Step [500/600], Loss: 0.0537\n",
      "Epoch [7/10], Step [600/600], Loss: 0.0050\n",
      "Epoch [8/10], Step [100/600], Loss: 0.0017\n",
      "Epoch [8/10], Step [200/600], Loss: 0.0005\n",
      "Epoch [8/10], Step [300/600], Loss: 0.0025\n",
      "Epoch [8/10], Step [400/600], Loss: 0.0028\n",
      "Epoch [8/10], Step [500/600], Loss: 0.0088\n",
      "Epoch [8/10], Step [600/600], Loss: 0.0015\n",
      "Epoch [9/10], Step [100/600], Loss: 0.0016\n",
      "Epoch [9/10], Step [200/600], Loss: 0.0002\n",
      "Epoch [9/10], Step [300/600], Loss: 0.0083\n",
      "Epoch [9/10], Step [400/600], Loss: 0.0013\n",
      "Epoch [9/10], Step [500/600], Loss: 0.0179\n",
      "Epoch [9/10], Step [600/600], Loss: 0.0105\n",
      "Epoch [10/10], Step [100/600], Loss: 0.0081\n",
      "Epoch [10/10], Step [200/600], Loss: 0.0041\n",
      "Epoch [10/10], Step [300/600], Loss: 0.0002\n",
      "Epoch [10/10], Step [400/600], Loss: 0.0016\n",
      "Epoch [10/10], Step [500/600], Loss: 0.0006\n",
      "Epoch [10/10], Step [600/600], Loss: 0.0215\n"
     ]
    }
   ],
   "source": [
    "'''\n",
    "Гиперпараметры v2:\n",
    "avg_pool2d_input = nn.MaxPool2d((4, 4))\n",
    "avg_pool3d_z1 = nn.MaxPool3d((2, 4, 4))\n",
    "avg_pool3d_z2 = nn.MaxPool3d((2, 3, 3))\n",
    "            \n",
    "z1_d = self.discrete_hidden(self.Z1, 2)\n",
    "z2_d = self.discrete_hidden(self.Z2, 2)\n",
    "        \n",
    "'''\n",
    "\n",
    "net.train()\n",
    "num_epochs = 10\n",
    "informations = []\n",
    "for epoch in range(num_epochs):\n",
    "    for i, (images, labels) in enumerate(mnist_train):\n",
    "        output = net(images)[0]\n",
    "        loss = loss_func(output, labels)\n",
    "        optimizer.zero_grad()\n",
    "        loss.backward()\n",
    "        optimizer.step()\n",
    "        if (i + 1) % 100 == 0:\n",
    "            print('Epoch [{}/{}], Step [{}/{}], Loss: {:.4f}'\n",
    "                  .format(epoch + 1, num_epochs, i + 1, total_step, loss.item()))\n",
    "            torch.save(net.state_dict(), f\"epoch_{epoch}.pth\")\n",
    "    information = Information(net, mnist_train)\n",
    "    information.get_X_Y()\n",
    "    information.get_data_comp(net, version='v2')\n",
    "    information.get_pdf()\n",
    "    information.get_mi()\n",
    "    information.save_inf_dict(epoch,'json_comp_v2')\n",
    "    informations.append(information)\n"
   ]
  },
  {
   "cell_type": "code",
   "execution_count": 18,
   "id": "286c00a8",
   "metadata": {},
   "outputs": [],
   "source": [
    "mi_xz1 = []\n",
    "for i in range(10):\n",
    "    mi_xz1.append(informations[i].get_h(informations[i].pdf_z1))"
   ]
  },
  {
   "cell_type": "code",
   "execution_count": 48,
   "id": "107480a7",
   "metadata": {},
   "outputs": [],
   "source": [
    "\n",
    "z1_0 = informations[0].pdf_z1"
   ]
  },
  {
   "cell_type": "code",
   "execution_count": 51,
   "id": "c9354cd6",
   "metadata": {},
   "outputs": [],
   "source": [
    "keys = np.array(list(z1_0.keys()))"
   ]
  },
  {
   "cell_type": "code",
   "execution_count": 58,
   "id": "0115b5f9",
   "metadata": {},
   "outputs": [
    {
     "data": {
      "text/plain": [
       "<matplotlib.image.AxesImage at 0x21f9542e0>"
      ]
     },
     "execution_count": 58,
     "metadata": {},
     "output_type": "execute_result"
    },
    {
     "data": {
      "image/png": "[encoded data removed]",
      "text/plain": [
       "<Figure size 288x288 with 1 Axes>"
      ]
     },
     "metadata": {
      "needs_background": "light"
     },
     "output_type": "display_data"
    }
   ],
   "source": [
    "plt.matshow(informations[0].Z1[0][0])"
   ]
  },
  {
   "cell_type": "code",
   "execution_count": 32,
   "id": "0fc57ef8",
   "metadata": {},
   "outputs": [],
   "source": [
    "key1 = key1.reshape((8, 3, 3))"
   ]
  },
  {
   "cell_type": "code",
   "execution_count": 45,
   "id": "8636f896",
   "metadata": {},
   "outputs": [],
   "source": [
    "val = np.array(list(z1_0.values()))"
   ]
  },
  {
   "cell_type": "code",
   "execution_count": 46,
   "id": "80ff31eb",
   "metadata": {},
   "outputs": [
    {
     "data": {
      "text/plain": [
       "(58100,)"
      ]
     },
     "execution_count": 46,
     "metadata": {},
     "output_type": "execute_result"
    }
   ],
   "source": [
    "val.shape"
   ]
  },
  {
   "cell_type": "code",
   "execution_count": 43,
   "id": "598cbb5d",
   "metadata": {},
   "outputs": [
    {
     "data": {
      "text/plain": [
       "[<matplotlib.lines.Line2D at 0x1f6ad5fd0>]"
      ]
     },
     "execution_count": 43,
     "metadata": {},
     "output_type": "execute_result"
    },
    {
     "data": {
      "image/png": "[encoded data removed]",
      "text/plain": [
       "<Figure size 432x288 with 1 Axes>"
      ]
     },
     "metadata": {
      "needs_background": "light"
     },
     "output_type": "display_data"
    }
   ],
   "source": [
    "plt.plot(val)"
   ]
  },
  {
   "cell_type": "code",
   "execution_count": 44,
   "id": "28154188",
   "metadata": {},
   "outputs": [],
   "source": [
    "z1_0 = informations[9].pdf_z1"
   ]
  },
  {
   "cell_type": "code",
   "execution_count": 47,
   "id": "294b3048",
   "metadata": {},
   "outputs": [
    {
     "data": {
      "text/plain": [
       "[<matplotlib.lines.Line2D at 0x2017f29d0>]"
      ]
     },
     "execution_count": 47,
     "metadata": {},
     "output_type": "execute_result"
    },
    {
     "data": {
      "image/png": "[encoded data removed]",
      "text/plain": [
       "<Figure size 432x288 with 1 Axes>"
      ]
     },
     "metadata": {
      "needs_background": "light"
     },
     "output_type": "display_data"
    }
   ],
   "source": [
    "plt.plot(val)"
   ]
  },
  {
   "cell_type": "code",
   "execution_count": null,
   "id": "bd72be33",
   "metadata": {},
   "outputs": [],
   "source": []
  }
 ],
 "metadata": {
  "kernelspec": {
   "display_name": "Python 3 (ipykernel)",
   "language": "python",
   "name": "python3"
  },
  "language_info": {
   "codemirror_mode": {
    "name": "ipython",
    "version": 3
   },
   "file_extension": ".py",
   "mimetype": "text/x-python",
   "name": "python",
   "nbconvert_exporter": "python",
   "pygments_lexer": "ipython3",
   "version": "3.8.9"
  }
 },
 "nbformat": 4,
 "nbformat_minor": 5
}
