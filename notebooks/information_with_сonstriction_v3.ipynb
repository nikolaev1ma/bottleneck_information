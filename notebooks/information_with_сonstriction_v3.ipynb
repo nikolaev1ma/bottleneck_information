{
 "cells": [
  {
   "cell_type": "code",
   "execution_count": 1,
   "id": "8eb083d4",
   "metadata": {},
   "outputs": [],
   "source": [
    "from probability import *\n",
    "from information import *"
   ]
  },
  {
   "cell_type": "code",
   "execution_count": 2,
   "id": "a10e874f",
   "metadata": {},
   "outputs": [],
   "source": [
    "%reload_ext autoreload\n",
    "\n",
    "%autoreload 2"
   ]
  },
  {
   "cell_type": "code",
   "execution_count": 3,
   "id": "d29b30b7",
   "metadata": {},
   "outputs": [],
   "source": [
    "net = CNN()\n",
    "train_data = datasets.MNIST(\n",
    "    root = 'data',\n",
    "    train = True,\n",
    "    transform = ToTensor(),\n",
    "    download = True,\n",
    ")\n",
    "\n",
    "test_data = datasets.MNIST(\n",
    "    root='data',\n",
    "    train=False,\n",
    "    transform=ToTensor()\n",
    ")\n",
    "\n",
    "mnist_train = torch.utils.data.DataLoader(train_data,\n",
    "                                          batch_size=100,\n",
    "                                          shuffle=True,\n",
    "                                          num_workers=1)\n",
    "\n",
    "mnist_test = torch.utils.data.DataLoader(test_data,\n",
    "                                         batch_size=100,\n",
    "                                         shuffle=True,\n",
    "                                         num_workers=1)\n",
    "\n",
    "total_step = len(mnist_train)\n"
   ]
  },
  {
   "cell_type": "code",
   "execution_count": 4,
   "id": "9fe396c8",
   "metadata": {},
   "outputs": [],
   "source": [
    "loss_func = nn.CrossEntropyLoss()\n",
    "optimizer = optim.Adam(net.parameters(), lr=0.002)    "
   ]
  },
  {
   "cell_type": "code",
   "execution_count": 5,
   "id": "f3f31be6",
   "metadata": {},
   "outputs": [
    {
     "name": "stdout",
     "output_type": "stream",
     "text": [
      "Epoch [1/10], Step [100/600], Loss: 0.2962\n",
      "Epoch [1/10], Step [200/600], Loss: 0.0960\n",
      "Epoch [1/10], Step [300/600], Loss: 0.2004\n",
      "Epoch [1/10], Step [400/600], Loss: 0.0455\n",
      "Epoch [1/10], Step [500/600], Loss: 0.0104\n",
      "Epoch [1/10], Step [600/600], Loss: 0.0379\n"
     ]
    },
    {
     "name": "stderr",
     "output_type": "stream",
     "text": [
      "/Users/a19407971/Desktop/code/bottleneck_information/probability.py:159: UserWarning: Implicit dimension choice for softmax has been deprecated. Change the call to include dim=X as an argument.\n",
      "  z3_comp = sm_z3(z3)\n"
     ]
    },
    {
     "name": "stdout",
     "output_type": "stream",
     "text": [
      "Epoch [2/10], Step [100/600], Loss: 0.0805\n",
      "Epoch [2/10], Step [200/600], Loss: 0.1408\n",
      "Epoch [2/10], Step [300/600], Loss: 0.0124\n",
      "Epoch [2/10], Step [400/600], Loss: 0.0054\n",
      "Epoch [2/10], Step [500/600], Loss: 0.0473\n",
      "Epoch [2/10], Step [600/600], Loss: 0.0467\n",
      "Epoch [3/10], Step [100/600], Loss: 0.0082\n",
      "Epoch [3/10], Step [200/600], Loss: 0.0715\n",
      "Epoch [3/10], Step [300/600], Loss: 0.0570\n",
      "Epoch [3/10], Step [400/600], Loss: 0.0121\n",
      "Epoch [3/10], Step [500/600], Loss: 0.0301\n",
      "Epoch [3/10], Step [600/600], Loss: 0.0200\n",
      "Epoch [4/10], Step [100/600], Loss: 0.0087\n",
      "Epoch [4/10], Step [200/600], Loss: 0.0637\n",
      "Epoch [4/10], Step [300/600], Loss: 0.0070\n",
      "Epoch [4/10], Step [400/600], Loss: 0.0299\n",
      "Epoch [4/10], Step [500/600], Loss: 0.0339\n",
      "Epoch [4/10], Step [600/600], Loss: 0.0346\n",
      "Epoch [5/10], Step [100/600], Loss: 0.0112\n",
      "Epoch [5/10], Step [200/600], Loss: 0.0124\n",
      "Epoch [5/10], Step [300/600], Loss: 0.0029\n",
      "Epoch [5/10], Step [400/600], Loss: 0.0183\n",
      "Epoch [5/10], Step [500/600], Loss: 0.0119\n",
      "Epoch [5/10], Step [600/600], Loss: 0.0090\n",
      "Epoch [6/10], Step [100/600], Loss: 0.0087\n",
      "Epoch [6/10], Step [200/600], Loss: 0.0150\n",
      "Epoch [6/10], Step [300/600], Loss: 0.0045\n",
      "Epoch [6/10], Step [400/600], Loss: 0.0307\n",
      "Epoch [6/10], Step [500/600], Loss: 0.0065\n",
      "Epoch [6/10], Step [600/600], Loss: 0.0089\n",
      "Epoch [7/10], Step [100/600], Loss: 0.0059\n",
      "Epoch [7/10], Step [200/600], Loss: 0.0052\n",
      "Epoch [7/10], Step [300/600], Loss: 0.0923\n",
      "Epoch [7/10], Step [400/600], Loss: 0.0734\n",
      "Epoch [7/10], Step [500/600], Loss: 0.0253\n",
      "Epoch [7/10], Step [600/600], Loss: 0.0825\n",
      "Epoch [8/10], Step [100/600], Loss: 0.0165\n",
      "Epoch [8/10], Step [200/600], Loss: 0.0031\n",
      "Epoch [8/10], Step [300/600], Loss: 0.0104\n",
      "Epoch [8/10], Step [400/600], Loss: 0.0042\n",
      "Epoch [8/10], Step [500/600], Loss: 0.0015\n",
      "Epoch [8/10], Step [600/600], Loss: 0.0142\n",
      "Epoch [9/10], Step [100/600], Loss: 0.0010\n",
      "Epoch [9/10], Step [200/600], Loss: 0.0055\n",
      "Epoch [9/10], Step [300/600], Loss: 0.0025\n",
      "Epoch [9/10], Step [400/600], Loss: 0.0033\n",
      "Epoch [9/10], Step [500/600], Loss: 0.0024\n",
      "Epoch [9/10], Step [600/600], Loss: 0.0041\n",
      "Epoch [10/10], Step [100/600], Loss: 0.0028\n",
      "Epoch [10/10], Step [200/600], Loss: 0.0084\n",
      "Epoch [10/10], Step [300/600], Loss: 0.0052\n",
      "Epoch [10/10], Step [400/600], Loss: 0.0293\n",
      "Epoch [10/10], Step [500/600], Loss: 0.0046\n",
      "Epoch [10/10], Step [600/600], Loss: 0.0005\n"
     ]
    }
   ],
   "source": [
    "'''\n",
    "Гиперпараметры v3:\n",
    "avg_pool2d_input = nn.MaxPool2d((4, 4))\n",
    "avg_pool3d_z1 = nn.MaxPool3d((4, 4, 4))\n",
    "avg_pool3d_z2 = nn.MaxPool3d((4, 3, 3))\n",
    "            \n",
    "z1_d = self.discrete_hidden(self.Z1, 2)\n",
    "z2_d = self.discrete_hidden(self.Z2, 2)\n",
    "        \n",
    "'''\n",
    "\n",
    "net.train()\n",
    "num_epochs = 10\n",
    "information = Information(net, mnist_train)\n",
    "information.get_X_Y()\n",
    "for epoch in range(num_epochs):\n",
    "    for i, (images, labels) in enumerate(mnist_train):\n",
    "        output = net(images)[0]\n",
    "        loss = loss_func(output, labels)\n",
    "        optimizer.zero_grad()\n",
    "        loss.backward()\n",
    "        optimizer.step()\n",
    "        if (i + 1) % 100 == 0:\n",
    "            print('Epoch [{}/{}], Step [{}/{}], Loss: {:.4f}'\n",
    "                  .format(epoch + 1, num_epochs, i + 1, total_step, loss.item()))\n",
    "            torch.save(net.state_dict(), f\"epoch_{epoch}.pth\")\n",
    "    information.get_data_comp(net, version='v3')\n",
    "    information.get_pdf()\n",
    "    information.get_mi()\n",
    "    information.save_inf_dict(epoch,'json_comp_v3')\n"
   ]
  },
  {
   "cell_type": "code",
   "execution_count": null,
   "id": "5e8de612",
   "metadata": {},
   "outputs": [],
   "source": []
  }
 ],
 "metadata": {
  "kernelspec": {
   "display_name": "Python 3 (ipykernel)",
   "language": "python",
   "name": "python3"
  },
  "language_info": {
   "codemirror_mode": {
    "name": "ipython",
    "version": 3
   },
   "file_extension": ".py",
   "mimetype": "text/x-python",
   "name": "python",
   "nbconvert_exporter": "python",
   "pygments_lexer": "ipython3",
   "version": "3.8.9"
  }
 },
 "nbformat": 4,
 "nbformat_minor": 5
}
