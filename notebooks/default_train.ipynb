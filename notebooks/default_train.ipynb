{
 "cells": [
  {
   "cell_type": "code",
   "execution_count": 1,
   "id": "43baa417",
   "metadata": {},
   "outputs": [],
   "source": [
    "from probability import *\n",
    "from information import *"
   ]
  },
  {
   "cell_type": "code",
   "execution_count": 2,
   "id": "be9f66ea",
   "metadata": {},
   "outputs": [],
   "source": [
    "%reload_ext autoreload\n",
    "\n",
    "%autoreload 2"
   ]
  },
  {
   "cell_type": "code",
   "execution_count": 3,
   "id": "711f7398",
   "metadata": {},
   "outputs": [],
   "source": [
    "net = CNN()\n",
    "train_data = datasets.MNIST(\n",
    "    root = 'data',\n",
    "    train = True,\n",
    "    transform = ToTensor(),\n",
    "    download = True,\n",
    ")\n",
    "\n",
    "test_data = datasets.MNIST(\n",
    "    root='data',\n",
    "    train=False,\n",
    "    transform=ToTensor()\n",
    ")\n",
    "\n",
    "mnist_train = torch.utils.data.DataLoader(train_data,\n",
    "                                          batch_size=100,\n",
    "                                          shuffle=True,\n",
    "                                          num_workers=1)\n",
    "\n",
    "mnist_test = torch.utils.data.DataLoader(test_data,\n",
    "                                         batch_size=100,\n",
    "                                         shuffle=True,\n",
    "                                         num_workers=1)\n",
    "\n",
    "total_step = len(mnist_train)\n"
   ]
  },
  {
   "cell_type": "code",
   "execution_count": 4,
   "id": "93a3cfd7",
   "metadata": {},
   "outputs": [],
   "source": [
    "loss_func = nn.CrossEntropyLoss()\n",
    "optimizer = optim.Adam(net.parameters(), lr=0.002)    "
   ]
  },
  {
   "cell_type": "code",
   "execution_count": 5,
   "id": "91964447",
   "metadata": {},
   "outputs": [],
   "source": [
    "net.train()\n",
    "num_epochs = 10\n",
    "information = Information(net, mnist_train)\n",
    "information.get_X_Y()\n",
    "torch.save(net.state_dict(), f\"epoch_0.pth\")\n",
    "for epoch in range(num_epochs):\n",
    "    for i, (images, labels) in enumerate(mnist_train):\n",
    "        output = net(images)[0]\n",
    "        loss = loss_func(output, labels)\n",
    "        optimizer.zero_grad()\n",
    "        loss.backward()\n",
    "        optimizer.step()\n",
    "        if (i + 1) % 100 == 0:\n",
    "            torch.save(net.state_dict(), f\"epoch_{epoch + 1}.pth\")\n"
   ]
  },
  {
   "cell_type": "code",
   "execution_count": 6,
   "id": "d515df97",
   "metadata": {},
   "outputs": [
    {
     "data": {
      "text/plain": [
       "[<matplotlib.lines.Line2D at 0x151e34520>]"
      ]
     },
     "execution_count": 6,
     "metadata": {},
     "output_type": "execute_result"
    },
    {
     "data": {
      "image/png": "[encoded data removed]",
      "text/plain": [
       "<Figure size 432x288 with 1 Axes>"
      ]
     },
     "metadata": {
      "needs_background": "light"
     },
     "output_type": "display_data"
    }
   ],
   "source": [
    "def test(epoch_path):\n",
    "    net.load_state_dict(torch.load(epoch_path))\n",
    "    net.eval()\n",
    "    correct = 0\n",
    "\n",
    "    for i, (images, labels) in enumerate(mnist_test):\n",
    "        test_output, last_layer = net(images)\n",
    "        pred_y = torch.max(test_output, 1)[1].data.squeeze()\n",
    "        correct += pred_y.eq(labels.data.view_as(pred_y)).sum()\n",
    "    \n",
    "    return correct / len(mnist_test)\n",
    "\n",
    "accuracy_by_epoch = []\n",
    "for i in range(11):\n",
    "    str_i = str(i)\n",
    "    acc = test(f'epoch_{str_i}.pth')\n",
    "    accuracy_by_epoch.append(acc)\n",
    "\n",
    "plt.plot(accuracy_by_epoch[1:])"
   ]
  },
  {
   "cell_type": "code",
   "execution_count": null,
   "id": "5c21a247",
   "metadata": {},
   "outputs": [],
   "source": []
  }
 ],
 "metadata": {
  "kernelspec": {
   "display_name": "Python 3 (ipykernel)",
   "language": "python",
   "name": "python3"
  },
  "language_info": {
   "codemirror_mode": {
    "name": "ipython",
    "version": 3
   },
   "file_extension": ".py",
   "mimetype": "text/x-python",
   "name": "python",
   "nbconvert_exporter": "python",
   "pygments_lexer": "ipython3",
   "version": "3.8.9"
  }
 },
 "nbformat": 4,
 "nbformat_minor": 5
}
