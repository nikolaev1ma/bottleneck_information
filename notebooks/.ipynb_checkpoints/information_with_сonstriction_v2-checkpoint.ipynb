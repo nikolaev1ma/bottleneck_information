{
 "cells": [
  {
   "cell_type": "code",
   "execution_count": 2,
   "id": "13f9b809",
   "metadata": {},
   "outputs": [
    {
     "ename": "ModuleNotFoundError",
     "evalue": "No module named 'probability'",
     "output_type": "error",
     "traceback": [
      "\u001b[0;31m---------------------------------------------------------------------------\u001b[0m",
      "\u001b[0;31mModuleNotFoundError\u001b[0m                       Traceback (most recent call last)",
      "\u001b[0;32m/var/folders/c7/2szpm1r52n726r56pl902lxm0000gq/T/ipykernel_72550/4026986465.py\u001b[0m in \u001b[0;36m<module>\u001b[0;34m\u001b[0m\n\u001b[0;32m----> 1\u001b[0;31m \u001b[0;32mfrom\u001b[0m \u001b[0mprobability\u001b[0m \u001b[0;32mimport\u001b[0m \u001b[0;34m*\u001b[0m\u001b[0;34m\u001b[0m\u001b[0;34m\u001b[0m\u001b[0m\n\u001b[0m\u001b[1;32m      2\u001b[0m \u001b[0;32mfrom\u001b[0m \u001b[0minformation\u001b[0m \u001b[0;32mimport\u001b[0m \u001b[0;34m*\u001b[0m\u001b[0;34m\u001b[0m\u001b[0;34m\u001b[0m\u001b[0m\n",
      "\u001b[0;31mModuleNotFoundError\u001b[0m: No module named 'probability'"
     ]
    }
   ],
   "source": [
    "from probability import *\n",
    "from information import *"
   ]
  },
  {
   "cell_type": "code",
   "execution_count": 2,
   "id": "d523035b",
   "metadata": {},
   "outputs": [],
   "source": [
    "%reload_ext autoreload\n",
    "\n",
    "%autoreload 2"
   ]
  },
  {
   "cell_type": "code",
   "execution_count": 3,
   "id": "8a0b02e6",
   "metadata": {},
   "outputs": [],
   "source": [
    "net = CNN()\n",
    "train_data = datasets.MNIST(\n",
    "    root = 'data',\n",
    "    train = True,\n",
    "    transform = ToTensor(),\n",
    "    download = True,\n",
    ")\n",
    "\n",
    "test_data = datasets.MNIST(\n",
    "    root='data',\n",
    "    train=False,\n",
    "    transform=ToTensor()\n",
    ")\n",
    "\n",
    "mnist_train = torch.utils.data.DataLoader(train_data,\n",
    "                                          batch_size=100,\n",
    "                                          shuffle=True,\n",
    "                                          num_workers=1)\n",
    "\n",
    "mnist_test = torch.utils.data.DataLoader(test_data,\n",
    "                                         batch_size=100,\n",
    "                                         shuffle=True,\n",
    "                                         num_workers=1)\n",
    "\n",
    "total_step = len(mnist_train)\n"
   ]
  },
  {
   "cell_type": "code",
   "execution_count": 4,
   "id": "29a835f6",
   "metadata": {},
   "outputs": [],
   "source": [
    "loss_func = nn.CrossEntropyLoss()\n",
    "optimizer = optim.Adam(net.parameters(), lr=0.002)    "
   ]
  },
  {
   "cell_type": "code",
   "execution_count": 5,
   "id": "ea7b1d74",
   "metadata": {},
   "outputs": [
    {
     "name": "stdout",
     "output_type": "stream",
     "text": [
      "Epoch [1/10], Step [100/600], Loss: 0.1516\n",
      "Epoch [1/10], Step [200/600], Loss: 0.0681\n",
      "Epoch [1/10], Step [300/600], Loss: 0.0786\n",
      "Epoch [1/10], Step [400/600], Loss: 0.0367\n",
      "Epoch [1/10], Step [500/600], Loss: 0.0198\n",
      "Epoch [1/10], Step [600/600], Loss: 0.0664\n"
     ]
    },
    {
     "name": "stderr",
     "output_type": "stream",
     "text": [
      "/Users/a19407971/Desktop/code/bottleneck_information/probability.py:159: UserWarning: Implicit dimension choice for softmax has been deprecated. Change the call to include dim=X as an argument.\n",
      "  z3_comp = sm_z3(z3)\n"
     ]
    },
    {
     "name": "stdout",
     "output_type": "stream",
     "text": [
      "Epoch [2/10], Step [100/600], Loss: 0.0397\n",
      "Epoch [2/10], Step [200/600], Loss: 0.0808\n",
      "Epoch [2/10], Step [300/600], Loss: 0.0496\n",
      "Epoch [2/10], Step [400/600], Loss: 0.0226\n",
      "Epoch [2/10], Step [500/600], Loss: 0.1270\n",
      "Epoch [2/10], Step [600/600], Loss: 0.1355\n",
      "Epoch [3/10], Step [100/600], Loss: 0.1179\n",
      "Epoch [3/10], Step [200/600], Loss: 0.0152\n",
      "Epoch [3/10], Step [300/600], Loss: 0.0644\n",
      "Epoch [3/10], Step [400/600], Loss: 0.0168\n",
      "Epoch [3/10], Step [500/600], Loss: 0.0435\n",
      "Epoch [3/10], Step [600/600], Loss: 0.0272\n",
      "Epoch [4/10], Step [100/600], Loss: 0.0568\n",
      "Epoch [4/10], Step [200/600], Loss: 0.0155\n",
      "Epoch [4/10], Step [300/600], Loss: 0.0220\n",
      "Epoch [4/10], Step [400/600], Loss: 0.0473\n",
      "Epoch [4/10], Step [500/600], Loss: 0.0121\n",
      "Epoch [4/10], Step [600/600], Loss: 0.0081\n",
      "Epoch [5/10], Step [100/600], Loss: 0.0084\n",
      "Epoch [5/10], Step [200/600], Loss: 0.0474\n",
      "Epoch [5/10], Step [300/600], Loss: 0.0274\n",
      "Epoch [5/10], Step [400/600], Loss: 0.0129\n",
      "Epoch [5/10], Step [500/600], Loss: 0.0050\n",
      "Epoch [5/10], Step [600/600], Loss: 0.0116\n",
      "Epoch [6/10], Step [100/600], Loss: 0.0033\n",
      "Epoch [6/10], Step [200/600], Loss: 0.0077\n",
      "Epoch [6/10], Step [300/600], Loss: 0.0217\n",
      "Epoch [6/10], Step [400/600], Loss: 0.0116\n",
      "Epoch [6/10], Step [500/600], Loss: 0.0114\n",
      "Epoch [6/10], Step [600/600], Loss: 0.0020\n",
      "Epoch [7/10], Step [100/600], Loss: 0.0188\n",
      "Epoch [7/10], Step [200/600], Loss: 0.0011\n",
      "Epoch [7/10], Step [300/600], Loss: 0.0053\n",
      "Epoch [7/10], Step [400/600], Loss: 0.0011\n",
      "Epoch [7/10], Step [500/600], Loss: 0.0707\n",
      "Epoch [7/10], Step [600/600], Loss: 0.0181\n",
      "Epoch [8/10], Step [100/600], Loss: 0.0029\n",
      "Epoch [8/10], Step [200/600], Loss: 0.0172\n",
      "Epoch [8/10], Step [300/600], Loss: 0.0086\n",
      "Epoch [8/10], Step [400/600], Loss: 0.0038\n",
      "Epoch [8/10], Step [500/600], Loss: 0.0348\n",
      "Epoch [8/10], Step [600/600], Loss: 0.0360\n",
      "Epoch [9/10], Step [100/600], Loss: 0.0371\n",
      "Epoch [9/10], Step [200/600], Loss: 0.0230\n",
      "Epoch [9/10], Step [300/600], Loss: 0.0424\n",
      "Epoch [9/10], Step [400/600], Loss: 0.0026\n",
      "Epoch [9/10], Step [500/600], Loss: 0.0048\n",
      "Epoch [9/10], Step [600/600], Loss: 0.0240\n",
      "Epoch [10/10], Step [100/600], Loss: 0.0014\n",
      "Epoch [10/10], Step [200/600], Loss: 0.0011\n",
      "Epoch [10/10], Step [300/600], Loss: 0.0409\n",
      "Epoch [10/10], Step [400/600], Loss: 0.0035\n",
      "Epoch [10/10], Step [500/600], Loss: 0.0024\n",
      "Epoch [10/10], Step [600/600], Loss: 0.0177\n"
     ]
    }
   ],
   "source": [
    "'''\n",
    "Гиперпараметры v2:\n",
    "avg_pool2d_input = nn.MaxPool2d((4, 4))\n",
    "avg_pool3d_z1 = nn.MaxPool3d((2, 4, 4))\n",
    "avg_pool3d_z2 = nn.MaxPool3d((2, 3, 3))\n",
    "            \n",
    "z1_d = self.discrete_hidden(self.Z1, 2)\n",
    "z2_d = self.discrete_hidden(self.Z2, 2)\n",
    "        \n",
    "'''\n",
    "\n",
    "net.train()\n",
    "num_epochs = 10\n",
    "information = Information(net, mnist_train)\n",
    "information.get_X_Y()\n",
    "informations = []\n",
    "for epoch in range(num_epochs):\n",
    "    for i, (images, labels) in enumerate(mnist_train):\n",
    "        output = net(images)[0]\n",
    "        loss = loss_func(output, labels)\n",
    "        optimizer.zero_grad()\n",
    "        loss.backward()\n",
    "        optimizer.step()\n",
    "        if (i + 1) % 100 == 0:\n",
    "            print('Epoch [{}/{}], Step [{}/{}], Loss: {:.4f}'\n",
    "                  .format(epoch + 1, num_epochs, i + 1, total_step, loss.item()))\n",
    "            torch.save(net.state_dict(), f\"epoch_{epoch}.pth\")\n",
    "    information.get_data_comp(net, version='v2')\n",
    "    information.get_pdf()\n",
    "    information.get_mi()\n",
    "    information.save_inf_dict(epoch,'json_comp_v2')\n",
    "    informations.append(information)\n"
   ]
  },
  {
   "cell_type": "code",
   "execution_count": null,
   "id": "286c00a8",
   "metadata": {},
   "outputs": [],
   "source": []
  }
 ],
 "metadata": {
  "kernelspec": {
   "display_name": "Python 3 (ipykernel)",
   "language": "python",
   "name": "python3"
  },
  "language_info": {
   "codemirror_mode": {
    "name": "ipython",
    "version": 3
   },
   "file_extension": ".py",
   "mimetype": "text/x-python",
   "name": "python",
   "nbconvert_exporter": "python",
   "pygments_lexer": "ipython3",
   "version": "3.8.9"
  }
 },
 "nbformat": 4,
 "nbformat_minor": 5
}
