{
 "cells": [
  {
   "cell_type": "code",
   "execution_count": 10,
   "id": "3f595117",
   "metadata": {},
   "outputs": [],
   "source": [
    "from probability import *"
   ]
  },
  {
   "cell_type": "code",
   "execution_count": 11,
   "id": "c1ad157d",
   "metadata": {},
   "outputs": [],
   "source": [
    "%reload_ext autoreload\n",
    "\n",
    "%autoreload 2\n"
   ]
  },
  {
   "cell_type": "code",
   "execution_count": 12,
   "id": "da5e77e9",
   "metadata": {},
   "outputs": [],
   "source": [
    "# init\n",
    "\n",
    "net = CNN()\n",
    "train_data = datasets.MNIST(\n",
    "    root = 'data',\n",
    "    train = True,\n",
    "    transform = ToTensor(),\n",
    "    download = True,\n",
    ")\n",
    "\n",
    "test_data = datasets.MNIST(\n",
    "    root='data',\n",
    "    train=False,\n",
    "    transform=ToTensor()\n",
    ")\n",
    "\n",
    "mnist_train = torch.utils.data.DataLoader(train_data,\n",
    "                                          batch_size=100,\n",
    "                                          shuffle=True,\n",
    "                                          num_workers=1)\n",
    "\n",
    "mnist_test = torch.utils.data.DataLoader(test_data,\n",
    "                                         batch_size=100,\n",
    "                                         shuffle=True,\n",
    "                                         num_workers=1)\n",
    "\n",
    "total_step = len(mnist_train)\n",
    "loss_func = nn.CrossEntropyLoss()\n",
    "optimizer = optim.Adam(net.parameters(), lr=0.01)\n",
    "    "
   ]
  },
  {
   "cell_type": "code",
   "execution_count": 13,
   "id": "fe0f1f28",
   "metadata": {},
   "outputs": [
    {
     "name": "stdout",
     "output_type": "stream",
     "text": [
      "------get pX-------\n",
      "------get pXY------\n",
      "-------get pZ--------\n",
      "-------get all prob-------\n",
      "-------get entropy--------\n",
      "Epoch [1/10], Step [100/600], Loss: 0.1112\n",
      "Epoch [1/10], Step [200/600], Loss: 0.0923\n",
      "Epoch [1/10], Step [300/600], Loss: 0.0817\n",
      "Epoch [1/10], Step [400/600], Loss: 0.0492\n",
      "Epoch [1/10], Step [500/600], Loss: 0.0451\n",
      "Epoch [1/10], Step [600/600], Loss: 0.1298\n",
      "-------get pZ--------\n",
      "-------get all prob-------\n",
      "-------get entropy--------\n",
      "Epoch [2/10], Step [100/600], Loss: 0.1540\n",
      "Epoch [2/10], Step [200/600], Loss: 0.0683\n",
      "Epoch [2/10], Step [300/600], Loss: 0.0359\n",
      "Epoch [2/10], Step [400/600], Loss: 0.0101\n",
      "Epoch [2/10], Step [500/600], Loss: 0.0392\n",
      "Epoch [2/10], Step [600/600], Loss: 0.0214\n",
      "-------get pZ--------\n",
      "-------get all prob-------\n",
      "-------get entropy--------\n",
      "Epoch [3/10], Step [100/600], Loss: 0.0037\n",
      "Epoch [3/10], Step [200/600], Loss: 0.0415\n",
      "Epoch [3/10], Step [300/600], Loss: 0.0202\n",
      "Epoch [3/10], Step [400/600], Loss: 0.0581\n",
      "Epoch [3/10], Step [500/600], Loss: 0.0343\n",
      "Epoch [3/10], Step [600/600], Loss: 0.1618\n",
      "-------get pZ--------\n",
      "-------get all prob-------\n",
      "-------get entropy--------\n",
      "Epoch [4/10], Step [100/600], Loss: 0.0098\n",
      "Epoch [4/10], Step [200/600], Loss: 0.0137\n",
      "Epoch [4/10], Step [300/600], Loss: 0.0466\n",
      "Epoch [4/10], Step [400/600], Loss: 0.0175\n",
      "Epoch [4/10], Step [500/600], Loss: 0.0162\n",
      "Epoch [4/10], Step [600/600], Loss: 0.0659\n",
      "-------get pZ--------\n",
      "-------get all prob-------\n",
      "-------get entropy--------\n",
      "Epoch [5/10], Step [100/600], Loss: 0.0457\n",
      "Epoch [5/10], Step [200/600], Loss: 0.0093\n",
      "Epoch [5/10], Step [300/600], Loss: 0.0287\n",
      "Epoch [5/10], Step [400/600], Loss: 0.0360\n",
      "Epoch [5/10], Step [500/600], Loss: 0.0314\n",
      "Epoch [5/10], Step [600/600], Loss: 0.0191\n",
      "-------get pZ--------\n",
      "-------get all prob-------\n",
      "-------get entropy--------\n",
      "Epoch [6/10], Step [100/600], Loss: 0.0206\n",
      "Epoch [6/10], Step [200/600], Loss: 0.0632\n",
      "Epoch [6/10], Step [300/600], Loss: 0.0748\n",
      "Epoch [6/10], Step [400/600], Loss: 0.0070\n",
      "Epoch [6/10], Step [500/600], Loss: 0.0063\n",
      "Epoch [6/10], Step [600/600], Loss: 0.0428\n",
      "-------get pZ--------\n",
      "-------get all prob-------\n",
      "-------get entropy--------\n",
      "Epoch [7/10], Step [100/600], Loss: 0.0848\n",
      "Epoch [7/10], Step [200/600], Loss: 0.0013\n",
      "Epoch [7/10], Step [300/600], Loss: 0.0343\n",
      "Epoch [7/10], Step [400/600], Loss: 0.0018\n",
      "Epoch [7/10], Step [500/600], Loss: 0.1083\n",
      "Epoch [7/10], Step [600/600], Loss: 0.0201\n",
      "-------get pZ--------\n",
      "-------get all prob-------\n",
      "-------get entropy--------\n",
      "Epoch [8/10], Step [100/600], Loss: 0.0058\n",
      "Epoch [8/10], Step [200/600], Loss: 0.1077\n",
      "Epoch [8/10], Step [300/600], Loss: 0.0052\n",
      "Epoch [8/10], Step [400/600], Loss: 0.0175\n",
      "Epoch [8/10], Step [500/600], Loss: 0.0991\n",
      "Epoch [8/10], Step [600/600], Loss: 0.1178\n",
      "-------get pZ--------\n",
      "-------get all prob-------\n",
      "-------get entropy--------\n",
      "Epoch [9/10], Step [100/600], Loss: 0.0848\n",
      "Epoch [9/10], Step [200/600], Loss: 0.0401\n",
      "Epoch [9/10], Step [300/600], Loss: 0.0313\n",
      "Epoch [9/10], Step [400/600], Loss: 0.1003\n",
      "Epoch [9/10], Step [500/600], Loss: 0.0395\n",
      "Epoch [9/10], Step [600/600], Loss: 0.1156\n",
      "-------get pZ--------\n",
      "-------get all prob-------\n",
      "-------get entropy--------\n",
      "Epoch [10/10], Step [100/600], Loss: 0.0689\n",
      "Epoch [10/10], Step [200/600], Loss: 0.0030\n",
      "Epoch [10/10], Step [300/600], Loss: 0.0144\n",
      "Epoch [10/10], Step [400/600], Loss: 0.0011\n",
      "Epoch [10/10], Step [500/600], Loss: 0.1058\n",
      "Epoch [10/10], Step [600/600], Loss: 0.0373\n",
      "-------get pZ--------\n",
      "-------get all prob-------\n",
      "-------get entropy--------\n"
     ]
    }
   ],
   "source": [
    "# train\n",
    "\n",
    "net.train()\n",
    "num_epochs = 10\n",
    "probality = Probability(mnist_train, net)\n",
    "probality.step(is_first=True)\n",
    "for epoch in range(num_epochs):\n",
    "    for i, (images, labels) in enumerate(mnist_train):\n",
    "        output = net(images)[0]\n",
    "        loss = loss_func(output, labels)\n",
    "        optimizer.zero_grad()\n",
    "        loss.backward()\n",
    "        optimizer.step()\n",
    "        if (i + 1) % 100 == 0:\n",
    "            print('Epoch [{}/{}], Step [{}/{}], Loss: {:.4f}'\n",
    "                  .format(epoch + 1, num_epochs, i + 1, total_step, loss.item()))\n",
    "            torch.save(net.state_dict(), \"mnist_model.pth\")\n",
    "    probality.step(is_first=False)\n",
    "\n",
    "        "
   ]
  },
  {
   "cell_type": "code",
   "execution_count": 37,
   "id": "15b68bdc",
   "metadata": {},
   "outputs": [
    {
     "data": {
      "image/png": "[encoded data removed]",
      "text/plain": [
       "<Figure size 432x288 with 1 Axes>"
      ]
     },
     "metadata": {
      "needs_background": "light"
     },
     "output_type": "display_data"
    }
   ],
   "source": [
    "import numpy as np\n",
    "\n",
    "plt.plot(np.array(probality.I_xz1) - np.array(probality.I_yz1), label=\"Z1\")\n",
    "plt.plot(np.array(probality.I_xz2) - np.array(probality.I_yz2), label=\"Z2\")\n",
    "plt.plot(np.array(probality.I_xz3) - np.array(probality.I_yz3), label=\"Z3\")\n",
    "\n",
    "Я \n",
    "plt.legend()\n",
    "plt.show()"
   ]
  },
  {
   "cell_type": "code",
   "execution_count": 32,
   "id": "5e77d883",
   "metadata": {},
   "outputs": [
    {
     "data": {
      "text/plain": [
       "[<matplotlib.lines.Line2D at 0x14a4768b0>]"
      ]
     },
     "execution_count": 32,
     "metadata": {},
     "output_type": "execute_result"
    },
    {
     "data": {
      "image/png": "[encoded data removed]",
      "text/plain": [
       "<Figure size 432x288 with 1 Axes>"
      ]
     },
     "metadata": {
      "needs_background": "light"
     },
     "output_type": "display_data"
    }
   ],
   "source": [
    "plt.plot(probality.I_xz3[0:])"
   ]
  },
  {
   "cell_type": "code",
   "execution_count": null,
   "id": "08e6560f",
   "metadata": {},
   "outputs": [],
   "source": []
  }
 ],
 "metadata": {
  "kernelspec": {
   "display_name": "Python 3 (ipykernel)",
   "language": "python",
   "name": "python3"
  },
  "language_info": {
   "codemirror_mode": {
    "name": "ipython",
    "version": 3
   },
   "file_extension": ".py",
   "mimetype": "text/x-python",
   "name": "python",
   "nbconvert_exporter": "python",
   "pygments_lexer": "ipython3",
   "version": "3.8.9"
  }
 },
 "nbformat": 4,
 "nbformat_minor": 5
}
